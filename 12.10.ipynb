{
 "cells": [
  {
   "cell_type": "markdown",
   "metadata": {},
   "source": [
    "### 최소 직사각형\n",
    "https://programmers.co.kr/learn/courses/30/lessons/86491"
   ]
  },
  {
   "cell_type": "code",
   "execution_count": 6,
   "metadata": {},
   "outputs": [],
   "source": [
    "def solution(sizes):\n",
    "    for i in sizes:\n",
    "        i.sort()         #sizes의 배열 순서가 [작은수, 큰수]가 됨\n",
    "    w,h = 0,0    \n",
    "    for j in sizes:\n",
    "        if j[0] > w :    #j[0] = [ , ] 안의 숫자 중 작은 수\n",
    "            w = j[0]\n",
    "        if j[1] > h:    #j[1] = [ , ] 안의 숫자 중 큰 수\n",
    "            h = j[1]\n",
    "    return w*h"
   ]
  },
  {
   "cell_type": "code",
   "execution_count": 8,
   "metadata": {},
   "outputs": [
    {
     "data": {
      "text/plain": [
       "120"
      ]
     },
     "execution_count": 8,
     "metadata": {},
     "output_type": "execute_result"
    }
   ],
   "source": [
    "solution()[[10, 7], [12, 3], [8, 15], [14, 7], [5, 15]]"
   ]
  },
  {
   "cell_type": "code",
   "execution_count": 11,
   "metadata": {},
   "outputs": [
    {
     "data": {
      "text/plain": [
       "120"
      ]
     },
     "execution_count": 11,
     "metadata": {},
     "output_type": "execute_result"
    }
   ],
   "source": [
    "#다른 풀이\n",
    "def solution(sizes):\n",
    "    return max(max(x) for x in sizes) * max(min(x) for x in sizes)\n",
    "#max와 min을 사용하면 내 풀이처럼 sort를 사용해서 정렬하고 변수를 업데이트 하는 방식을 사용하지 않아도 됨\n",
    "solution([[10, 7], [12, 3], [8, 15], [14, 7], [5, 15]])"
   ]
  },
  {
   "cell_type": "markdown",
   "metadata": {},
   "source": [
    "### 약수의 개수와 덧셈\n",
    "두 정수 left와 right가 매개변수로 주어집니다. left부터 right까지의 모든 수들 중에서, 약수의 개수가 짝수인 수는 더하고, 약수의 개수가 홀수인 수는 뺀 수를 return 하도록 solution 함수를 완성해주세요."
   ]
  },
  {
   "cell_type": "code",
   "execution_count": 17,
   "metadata": {},
   "outputs": [
    {
     "data": {
      "text/plain": [
       "52"
      ]
     },
     "execution_count": 17,
     "metadata": {},
     "output_type": "execute_result"
    }
   ],
   "source": [
    "#약수 개수 구하는 함수\n",
    "def divisor(number):\n",
    "    return len([i for i in range(1,number+1) if number%i==0])\n",
    "\n",
    "def solution(left, right):\n",
    "    result = 0\n",
    "    for number in range(left, right+1):\n",
    "        if divisor(number)%2 == 0:    #약수의 개수가 짝수면 더하고\n",
    "            result += number\n",
    "        else:                         #약수의 개수가 홀수면 뺀다\n",
    "            result -= number\n",
    "    return result\n",
    "\n",
    "solution(24,27)"
   ]
  },
  {
   "cell_type": "code",
   "execution_count": null,
   "metadata": {},
   "outputs": [],
   "source": [
    "#다른 풀이\n",
    "def solution(left, right):\n",
    "    answer = 0\n",
    "    for i in range(left, right+1):\n",
    "        if int(i**0.5) == i**0.5:    #약수의 개수가 홀수인 모든 수는 제곱수이다.\n",
    "            answer -= i              #i 가 제곱수이면 약수의 개수도 홀수일 것이므로, answer-i\n",
    "        else:\n",
    "            answer += i\n",
    "    return answer"
   ]
  }
 ],
 "metadata": {
  "interpreter": {
   "hash": "6befbeed676a172e080901c5981be1b0cd24cf8f27aeb32c0504fe9f13c0d96d"
  },
  "kernelspec": {
   "display_name": "Python 3.8.8 64-bit ('study': conda)",
   "language": "python",
   "name": "python3"
  },
  "language_info": {
   "codemirror_mode": {
    "name": "ipython",
    "version": 3
   },
   "file_extension": ".py",
   "mimetype": "text/x-python",
   "name": "python",
   "nbconvert_exporter": "python",
   "pygments_lexer": "ipython3",
   "version": "3.8.8"
  },
  "orig_nbformat": 4
 },
 "nbformat": 4,
 "nbformat_minor": 2
}
