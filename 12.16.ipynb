{
 "cells": [
  {
   "cell_type": "markdown",
   "metadata": {},
   "source": [
    "### 체육복\n",
    "https://programmers.co.kr/learn/courses/30/lessons/42862"
   ]
  },
  {
   "cell_type": "code",
   "execution_count": 28,
   "metadata": {},
   "outputs": [],
   "source": [
    "def solution(n, lost, reserve):\n",
    "    ans = list(set(list(range(1,n+1))) -set(lost))    #전체학생수 - lost\n",
    "    ans = sorted(ans+reserve)                         #체육복을 도난당하지 않은 학생 + 여벌 체육복 갖고 있는 학생\n",
    "    find_duplicate = ans.copy()\n",
    "    for j in set(ans):                                #set을 활용함으로써 도난 후 여벌 체육복을 갖고 있는 학생 찾기\n",
    "        find_duplicate.remove(j)\n",
    "    for k in find_duplicate:                          # 조건에 따라 앞, 뒤 학생에게 여벌 체육복 나눠주기\n",
    "        if (k-1)>0 and (k-1) not in ans:\n",
    "            ans.append(k-1)\n",
    "        elif (k+1)<n+1 and (k+1) not in ans:\n",
    "            ans.append(k+1)\n",
    "    return len(set(ans))"
   ]
  },
  {
   "cell_type": "code",
   "execution_count": 29,
   "metadata": {},
   "outputs": [
    {
     "data": {
      "text/plain": [
       "5"
      ]
     },
     "execution_count": 29,
     "metadata": {},
     "output_type": "execute_result"
    }
   ],
   "source": [
    "solution(5,[2,5],[2,4])"
   ]
  },
  {
   "cell_type": "code",
   "execution_count": null,
   "metadata": {},
   "outputs": [],
   "source": []
  }
 ],
 "metadata": {
  "interpreter": {
   "hash": "6befbeed676a172e080901c5981be1b0cd24cf8f27aeb32c0504fe9f13c0d96d"
  },
  "kernelspec": {
   "display_name": "Python 3.8.8 64-bit ('study': conda)",
   "language": "python",
   "name": "python3"
  },
  "language_info": {
   "codemirror_mode": {
    "name": "ipython",
    "version": 3
   },
   "file_extension": ".py",
   "mimetype": "text/x-python",
   "name": "python",
   "nbconvert_exporter": "python",
   "pygments_lexer": "ipython3",
   "version": "3.8.8"
  },
  "orig_nbformat": 4
 },
 "nbformat": 4,
 "nbformat_minor": 2
}
