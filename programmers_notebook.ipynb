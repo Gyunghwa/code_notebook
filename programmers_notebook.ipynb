{
 "cells": [
  {
   "cell_type": "code",
   "execution_count": 1,
   "source": [
    "import pandas as pd\r\n",
    "import numpy as np"
   ],
   "outputs": [],
   "metadata": {}
  },
  {
   "cell_type": "code",
   "execution_count": 59,
   "source": [
    "wires = [[1,3],[2,3],[3,4],[4,5],[4,6],[4,7],[7,8],[7,9]]\r\n",
    "len(wires)"
   ],
   "outputs": [
    {
     "output_type": "execute_result",
     "data": {
      "text/plain": [
       "8"
      ]
     },
     "metadata": {},
     "execution_count": 59
    }
   ],
   "metadata": {}
  },
  {
   "cell_type": "code",
   "execution_count": 6,
   "source": [
    "lst = []\r\n",
    "for n in range(len(wires)):\r\n",
    "    for m in range(2):\r\n",
    "        wire = wires[n][m]\r\n",
    "        lst.append(wire)\r\n",
    "\r\n",
    "lst"
   ],
   "outputs": [
    {
     "output_type": "execute_result",
     "data": {
      "text/plain": [
       "[1, 3, 2, 3, 3, 4, 4, 5, 4, 6, 4, 7, 7, 8, 7, 9]"
      ]
     },
     "metadata": {},
     "execution_count": 6
    }
   ],
   "metadata": {}
  },
  {
   "cell_type": "code",
   "execution_count": 11,
   "source": [
    "lst.count"
   ],
   "outputs": [
    {
     "output_type": "execute_result",
     "data": {
      "text/plain": [
       "<function list.count(value, /)>"
      ]
     },
     "metadata": {},
     "execution_count": 11
    }
   ],
   "metadata": {}
  },
  {
   "cell_type": "code",
   "execution_count": 8,
   "source": [
    "def most_frequent(List):\r\n",
    "    return max(set(List), key=List.count)"
   ],
   "outputs": [],
   "metadata": {}
  },
  {
   "cell_type": "code",
   "execution_count": 20,
   "source": [
    "list(set(lst))"
   ],
   "outputs": [
    {
     "output_type": "execute_result",
     "data": {
      "text/plain": [
       "[1, 2, 3, 4, 5, 6, 7, 8, 9]"
      ]
     },
     "metadata": {},
     "execution_count": 20
    }
   ],
   "metadata": {}
  },
  {
   "cell_type": "code",
   "execution_count": 22,
   "source": [
    "\r\n",
    "# initializing dict to store frequency of each element\r\n",
    "elements_count = {}\r\n",
    "# iterating over the elements for frequency\r\n",
    "for e in lst:\r\n",
    "   # checking whether it is in the dict or not\r\n",
    "   if e in elements_count:\r\n",
    "      # incerementing the count by 1\r\n",
    "      elements_count[e] += 1\r\n",
    "   else:\r\n",
    "      # setting the count to 1\r\n",
    "      elements_count[e] = 1\r\n",
    "# printing the elements frequencies\r\n",
    "# for key, value in elements_count.items():\r\n",
    "#    print(f\"{key}: {value}\")"
   ],
   "outputs": [],
   "metadata": {}
  },
  {
   "cell_type": "code",
   "execution_count": 43,
   "source": [
    "elements_count.items()"
   ],
   "outputs": [
    {
     "output_type": "execute_result",
     "data": {
      "text/plain": [
       "dict_items([(1, 1), (3, 3), (2, 1), (4, 4), (5, 1), (6, 1), (7, 3), (8, 1), (9, 1)])"
      ]
     },
     "metadata": {},
     "execution_count": 43
    }
   ],
   "metadata": {}
  },
  {
   "cell_type": "code",
   "execution_count": 44,
   "source": [
    "def find_most_frequent(Dict):\r\n",
    "    for key, val in Dict.items():\r\n",
    "        if val == max(Dict.values()):\r\n",
    "            return key"
   ],
   "outputs": [],
   "metadata": {}
  },
  {
   "cell_type": "code",
   "execution_count": 45,
   "source": [
    "find_most_frequent(elements_count)"
   ],
   "outputs": [
    {
     "output_type": "execute_result",
     "data": {
      "text/plain": [
       "4"
      ]
     },
     "metadata": {},
     "execution_count": 45
    }
   ],
   "metadata": {}
  },
  {
   "cell_type": "code",
   "execution_count": 48,
   "source": [
    "temp = elements_count\r\n",
    "temp.items()"
   ],
   "outputs": [
    {
     "output_type": "execute_result",
     "data": {
      "text/plain": [
       "dict_items([(1, 1), (3, 3), (2, 1), (4, 4), (5, 1), (6, 1), (7, 3), (8, 1), (9, 1)])"
      ]
     },
     "metadata": {},
     "execution_count": 48
    }
   ],
   "metadata": {}
  },
  {
   "cell_type": "code",
   "execution_count": 49,
   "source": [
    "del temp[4]\r\n",
    "temp"
   ],
   "outputs": [
    {
     "output_type": "execute_result",
     "data": {
      "text/plain": [
       "{1: 1, 3: 3, 2: 1, 5: 1, 6: 1, 7: 3, 8: 1, 9: 1}"
      ]
     },
     "metadata": {},
     "execution_count": 49
    }
   ],
   "metadata": {}
  },
  {
   "cell_type": "code",
   "execution_count": 94,
   "source": [
    "def find_next_frequency(Dict):\r\n",
    "    del Dict[find_most_frequent(Dict)]\r\n",
    "    for key, val in Dict.items():\r\n",
    "        if val == max(Dict.values()):\r\n",
    "            return key"
   ],
   "outputs": [],
   "metadata": {}
  },
  {
   "cell_type": "code",
   "execution_count": 51,
   "source": [
    "find_next_frequency(elements_count)"
   ],
   "outputs": [
    {
     "output_type": "execute_result",
     "data": {
      "text/plain": [
       "7"
      ]
     },
     "metadata": {},
     "execution_count": 51
    }
   ],
   "metadata": {}
  },
  {
   "cell_type": "code",
   "execution_count": 116,
   "source": [
    "def cut_wires(List):\r\n",
    "    lst = []\r\n",
    "    for n in range(len(wires)):\r\n",
    "        for m in range(2):\r\n",
    "            wire = wires[n][m]\r\n",
    "            lst.append(wire)\r\n",
    "\r\n",
    "    elements_count = {}\r\n",
    "    for e in lst:\r\n",
    "    \r\n",
    "        if e in elements_count:\r\n",
    "            elements_count[e] += 1\r\n",
    "        else:\r\n",
    "            elements_count[e] = 1\r\n",
    "\r\n",
    "    most_val = find_most_frequent(elements_count)\r\n",
    "    next_val = find_next_frequency(elements_count)\r\n",
    "\r\n",
    "    \r\n",
    "    for i in range(len(List)):\r\n",
    "        if List[i] == [most_val, next_val] or List[i] == [next_val, most_val]:\r\n",
    "            return i"
   ],
   "outputs": [],
   "metadata": {}
  },
  {
   "cell_type": "code",
   "execution_count": 117,
   "source": [
    "wires = [[1,3],[2,3],[3,4],[4,5],[4,6],[4,7],[7,8],[7,9]]"
   ],
   "outputs": [],
   "metadata": {}
  },
  {
   "cell_type": "code",
   "execution_count": 118,
   "source": [
    "cut_wires(wires)"
   ],
   "outputs": [
    {
     "output_type": "execute_result",
     "data": {
      "text/plain": [
       "2"
      ]
     },
     "metadata": {},
     "execution_count": 118
    }
   ],
   "metadata": {}
  },
  {
   "cell_type": "code",
   "execution_count": 112,
   "source": [
    "wires[5]"
   ],
   "outputs": [
    {
     "output_type": "execute_result",
     "data": {
      "text/plain": [
       "[4, 7]"
      ]
     },
     "metadata": {},
     "execution_count": 112
    }
   ],
   "metadata": {}
  },
  {
   "cell_type": "code",
   "execution_count": 125,
   "source": [
    "wires = [[1,3],[2,3],[3,4],[4,5],[4,6],[4,7],[7,8],[7,9]]\r\n",
    "lst = []\r\n",
    "for n in range(len(wires)):\r\n",
    "    for m in range(2):\r\n",
    "        wire = wires[n][m]\r\n",
    "        lst.append(wire)\r\n",
    "\r\n",
    "elements_count = {}\r\n",
    "for e in lst:\r\n",
    "    \r\n",
    "    if e in elements_count:\r\n",
    "        elements_count[e] += 1\r\n",
    "    else:\r\n",
    "        elements_count[e] = 1"
   ],
   "outputs": [],
   "metadata": {}
  },
  {
   "cell_type": "code",
   "execution_count": 126,
   "source": [
    "most_val = find_most_frequent(elements_count)\r\n",
    "next_val = find_next_frequency(elements_count)\r\n",
    "\r\n",
    "print(most_val, next_val)"
   ],
   "outputs": [
    {
     "output_type": "stream",
     "name": "stdout",
     "text": [
      "4 3\n"
     ]
    }
   ],
   "metadata": {}
  },
  {
   "cell_type": "code",
   "execution_count": 127,
   "source": [
    "def find_index(List):\r\n",
    "    for i in range(len(List)):\r\n",
    "        if List[i] == [most_val, next_val] or List[i] == [next_val, most_val]:\r\n",
    "            return i"
   ],
   "outputs": [],
   "metadata": {}
  },
  {
   "cell_type": "code",
   "execution_count": 128,
   "source": [
    "find_index(wires)"
   ],
   "outputs": [
    {
     "output_type": "execute_result",
     "data": {
      "text/plain": [
       "2"
      ]
     },
     "metadata": {},
     "execution_count": 128
    }
   ],
   "metadata": {}
  },
  {
   "cell_type": "code",
   "execution_count": 129,
   "source": [
    "wires[2]"
   ],
   "outputs": [
    {
     "output_type": "execute_result",
     "data": {
      "text/plain": [
       "[3, 4]"
      ]
     },
     "metadata": {},
     "execution_count": 129
    }
   ],
   "metadata": {}
  },
  {
   "cell_type": "code",
   "execution_count": 131,
   "source": [
    "wires.pop(2)\r\n",
    "wires"
   ],
   "outputs": [
    {
     "output_type": "execute_result",
     "data": {
      "text/plain": [
       "[[1, 3], [2, 3], [4, 5], [4, 6], [4, 7], [7, 8], [7, 9]]"
      ]
     },
     "metadata": {},
     "execution_count": 131
    }
   ],
   "metadata": {}
  },
  {
   "cell_type": "code",
   "execution_count": null,
   "source": [
    "def solution(n, wires):\r\n",
    "    n-2\r\n",
    "\r\n",
    "\r\n",
    "    return abs(answer)"
   ],
   "outputs": [],
   "metadata": {}
  }
 ],
 "metadata": {
  "orig_nbformat": 4,
  "language_info": {
   "name": "python",
   "version": "3.8.8",
   "mimetype": "text/x-python",
   "codemirror_mode": {
    "name": "ipython",
    "version": 3
   },
   "pygments_lexer": "ipython3",
   "nbconvert_exporter": "python",
   "file_extension": ".py"
  },
  "kernelspec": {
   "name": "python3",
   "display_name": "Python 3.8.8 64-bit ('study': conda)"
  },
  "interpreter": {
   "hash": "6befbeed676a172e080901c5981be1b0cd24cf8f27aeb32c0504fe9f13c0d96d"
  }
 },
 "nbformat": 4,
 "nbformat_minor": 2
}