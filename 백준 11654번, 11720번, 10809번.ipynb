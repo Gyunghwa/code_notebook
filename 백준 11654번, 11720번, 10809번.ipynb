{
 "cells": [
  {
   "cell_type": "markdown",
   "id": "5860e2b9",
   "metadata": {},
   "source": [
    "11654번\n",
    "알파벳 소문자, 대문자, 숫자 0-9중 하나가 주어졌을 때, 주어진 글자의 아스키 코드값을 출력하는 프로그램을 작성하시오."
   ]
  },
  {
   "cell_type": "code",
   "execution_count": 3,
   "id": "37540720",
   "metadata": {},
   "outputs": [
    {
     "name": "stdout",
     "output_type": "stream",
     "text": [
      "9\n",
      "57\n"
     ]
    }
   ],
   "source": [
    "x = input()\n",
    "print(ord(x))"
   ]
  },
  {
   "cell_type": "code",
   "execution_count": 4,
   "id": "a8e10397",
   "metadata": {},
   "outputs": [],
   "source": [
    "#ord(x) : x의 아스키 코드값을 출력\n",
    "#chr(n) : 아스키코드값 n에 해당하는 문자/숫자를 출력"
   ]
  },
  {
   "cell_type": "markdown",
   "id": "c7396d11",
   "metadata": {},
   "source": [
    "11720번"
   ]
  },
  {
   "cell_type": "markdown",
   "id": "adb4de06",
   "metadata": {},
   "source": [
    "N개의 숫자가 공백 없이 쓰여있다. 이 숫자를 모두 합해서 출력하는 프로그램을 작성하시오."
   ]
  },
  {
   "cell_type": "code",
   "execution_count": 8,
   "id": "73ee2c10",
   "metadata": {},
   "outputs": [
    {
     "name": "stdout",
     "output_type": "stream",
     "text": [
      "7\n",
      "7000000\n",
      "7\n"
     ]
    }
   ],
   "source": [
    "#정답\n",
    "N = int(input())\n",
    "n = int(input())\n",
    "lst = list(map(int, str(n)))\n",
    "print(sum(lst))"
   ]
  },
  {
   "cell_type": "markdown",
   "id": "6d6293e1",
   "metadata": {},
   "source": [
    "10809번"
   ]
  },
  {
   "cell_type": "markdown",
   "id": "3c7d705f",
   "metadata": {},
   "source": [
    "알파벳 소문자로만 이루어진 단어 S가 주어진다. 각각의 알파벳에 대해서, 단어에 포함되어 있는 경우에는 처음 등장하는 위치를, 포함되어 있지 않은 경우에는 -1을 출력하는 프로그램을 작성하시오."
   ]
  },
  {
   "cell_type": "code",
   "execution_count": 26,
   "id": "0be22ba9",
   "metadata": {},
   "outputs": [
    {
     "name": "stdout",
     "output_type": "stream",
     "text": [
      "me\n",
      "-1\n",
      "-1\n",
      "-1\n",
      "-1\n",
      "1\n",
      "-1\n",
      "-1\n",
      "-1\n",
      "-1\n",
      "-1\n",
      "-1\n",
      "-1\n",
      "0\n",
      "-1\n",
      "-1\n",
      "-1\n",
      "-1\n",
      "-1\n",
      "-1\n",
      "-1\n",
      "-1\n",
      "-1\n",
      "-1\n",
      "-1\n",
      "-1\n",
      "-1\n"
     ]
    }
   ],
   "source": [
    "import string\n",
    "temp = list(string.ascii_lowercase)\n",
    "A = str(input())\n",
    "A = list(map(str, str(A)))\n",
    "for i, v in enumerate(temp):\n",
    "    if v in A:\n",
    "        temp[i] = A.index(v)\n",
    "    elif v not in A:\n",
    "        temp[i] = -1\n",
    "    print(temp[i])"
   ]
  },
  {
   "cell_type": "code",
   "execution_count": null,
   "id": "bc5e7cfc",
   "metadata": {},
   "outputs": [],
   "source": []
  }
 ],
 "metadata": {
  "kernelspec": {
   "display_name": "Python 3",
   "language": "python",
   "name": "python3"
  },
  "language_info": {
   "codemirror_mode": {
    "name": "ipython",
    "version": 3
   },
   "file_extension": ".py",
   "mimetype": "text/x-python",
   "name": "python",
   "nbconvert_exporter": "python",
   "pygments_lexer": "ipython3",
   "version": "3.8.8"
  }
 },
 "nbformat": 4,
 "nbformat_minor": 5
}
