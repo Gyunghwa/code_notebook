{
 "cells": [
  {
   "cell_type": "markdown",
   "id": "d0b67b63",
   "metadata": {},
   "source": [
    "1065번"
   ]
  },
  {
   "cell_type": "markdown",
   "id": "966585c8",
   "metadata": {},
   "source": [
    "어떤 양의 정수 X의 각 자리가 등차수열을 이룬다면, 그 수를 한수라고 한다. 등차수열은 연속된 두 개의 수의 차이가 일정한 수열을 말한다. N이 주어졌을 때, 1보다 크거나 같고, N보다 작거나 같은 한수의 개수를 출력하는 프로그램을 작성하시오. "
   ]
  },
  {
   "cell_type": "code",
   "execution_count": 59,
   "id": "1ab42829",
   "metadata": {},
   "outputs": [],
   "source": [
    "def find(n):\n",
    "    count = 0\n",
    "    for i in range(1, n+1):\n",
    "        num = map(int, str(i))\n",
    "        num = list(num)\n",
    "        if len(num) > 2:\n",
    "            if num[0] - num[1] == num[1] - num[2]:\n",
    "                count += 1\n",
    "        elif len(num) <= 2 :\n",
    "            count += 1\n",
    "    return count"
   ]
  },
  {
   "cell_type": "code",
   "execution_count": 60,
   "id": "5d9e8a50",
   "metadata": {
    "scrolled": true
   },
   "outputs": [
    {
     "data": {
      "text/plain": [
       "144"
      ]
     },
     "execution_count": 60,
     "metadata": {},
     "output_type": "execute_result"
    }
   ],
   "source": [
    "find(1000)"
   ]
  },
  {
   "cell_type": "code",
   "execution_count": null,
   "id": "b4a0218f",
   "metadata": {},
   "outputs": [],
   "source": []
  }
 ],
 "metadata": {
  "kernelspec": {
   "display_name": "Python 3",
   "language": "python",
   "name": "python3"
  },
  "language_info": {
   "codemirror_mode": {
    "name": "ipython",
    "version": 3
   },
   "file_extension": ".py",
   "mimetype": "text/x-python",
   "name": "python",
   "nbconvert_exporter": "python",
   "pygments_lexer": "ipython3",
   "version": "3.8.8"
  }
 },
 "nbformat": 4,
 "nbformat_minor": 5
}
