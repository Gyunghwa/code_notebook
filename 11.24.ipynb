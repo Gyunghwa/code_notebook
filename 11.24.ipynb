{
 "cells": [
  {
   "cell_type": "markdown",
   "metadata": {},
   "source": [
    "### 소수 찾기\n",
    "#### 1부터 입력받은 숫자 n 사이에 있는 소수의 개수를 반환하는 함수, solution을 만들어 보세요.\n",
    "\n",
    "#### 소수는 1과 자기 자신으로만 나누어지는 수를 의미합니다. (1은 소수가 아닙니다.)"
   ]
  },
  {
   "cell_type": "code",
   "execution_count": null,
   "metadata": {},
   "outputs": [],
   "source": [
    "#방법1\n",
    "def solution(n):\n",
    "    count = 0\n",
    "    for num in range(2,n+1):\n",
    "        div = range(1,num+1)\n",
    "        div_count = [d for d in div if num%d ==0]\n",
    "        if len(div_count) == 2:\n",
    "            count += 1\n",
    "    return count"
   ]
  },
  {
   "cell_type": "code",
   "execution_count": null,
   "metadata": {},
   "outputs": [
    {
     "data": {
      "text/plain": [
       "4"
      ]
     },
     "metadata": {},
     "output_type": "display_data"
    }
   ],
   "source": [
    "solution(10)"
   ]
  },
  {
   "cell_type": "code",
   "execution_count": null,
   "metadata": {},
   "outputs": [],
   "source": [
    "#방법2\n",
    "def solution(n):\n",
    "    #약수 구하는 함수\n",
    "    def divisor(num):\n",
    "        numbers = range(1,num+1)\n",
    "        return [i for i in numbers if num%i==0]\n",
    "    \n",
    "    count = 0\n",
    "    for number in range(2, n+1):\n",
    "        if len(divisor(number)) == 2:\n",
    "            count += 1\n",
    "    return count\n"
   ]
  },
  {
   "cell_type": "markdown",
   "metadata": {},
   "source": [
    "위 두가지 방법 모두 효율성 테스트 실패"
   ]
  },
  {
   "cell_type": "code",
   "execution_count": 12,
   "metadata": {},
   "outputs": [],
   "source": [
    "def solution(n):\n",
    "    import math\n",
    "    sqrt_n = math.sqrt(n)\n",
    "    n_list = list(range(2,n+1))\n",
    "    d_list = []\n",
    "\n",
    "    #약수 구하는 함수\n",
    "    def divisor(num):\n",
    "        numbers = range(1,num+1)\n",
    "        return [i for i in numbers if num%i==0]\n",
    "\n",
    "        \n",
    "    for number in range(2, int(sqrt_n)+1):\n",
    "        if len(divisor(number)) == 2:\n",
    "            d_list.append(number)\n",
    "\n",
    "    for num in d_list:\n",
    "        for elem in n_list:\n",
    "            if elem % num == 0:\n",
    "                n_list.remove(elem)\n",
    "\n",
    "    return len(d_list + n_list)\n",
    "\n",
    "\n",
    "#이것도 효율성 테스트 실패\n"
   ]
  },
  {
   "cell_type": "code",
   "execution_count": 13,
   "metadata": {},
   "outputs": [
    {
     "data": {
      "text/plain": [
       "30"
      ]
     },
     "execution_count": 13,
     "metadata": {},
     "output_type": "execute_result"
    }
   ],
   "source": [
    "solution(121)"
   ]
  },
  {
   "cell_type": "code",
   "execution_count": 31,
   "metadata": {},
   "outputs": [],
   "source": [
    "#내 풀이\n",
    "\n",
    "def solution(n):\n",
    "    #에라토스테네스의 체 초기화. n개 요소에 True 설정(소수로 간주)\n",
    "    sieve = [True]*(n+1)\n",
    "\n",
    "    #n의 최대 약수는 sqrt(n) 이하이다.\n",
    "    #i = sqrt(n)까지만 검사하면 됨\n",
    "    sqrt_n = int(n ** 0.5)\n",
    "    for i in range(2, sqrt_n +1):\n",
    "        if sieve[i] == True:\n",
    "            for j in range(i+i, n+1, i):   #i+i ~ n 까지의 숫자 중 i의 배수 골라내기\n",
    "                sieve[j] = False\n",
    "    \n",
    "    #소수 목록\n",
    "    prime_list = [i for i in range(2, n+1) if sieve[i]==True]\n",
    "    return len(prime_list)"
   ]
  },
  {
   "cell_type": "code",
   "execution_count": 35,
   "metadata": {},
   "outputs": [
    {
     "data": {
      "text/plain": [
       "3"
      ]
     },
     "execution_count": 35,
     "metadata": {},
     "output_type": "execute_result"
    }
   ],
   "source": [
    "solution(5)"
   ]
  },
  {
   "cell_type": "code",
   "execution_count": null,
   "metadata": {},
   "outputs": [],
   "source": [
    "# 다른 사람 풀이\n",
    "\n",
    "def solution(n):\n",
    "    num=set(range(2,n+1))\n",
    "\n",
    "    for i in range(2,n+1):\n",
    "        if i in num:\n",
    "            num-=set(range(2*i,n+1,i))\n",
    "    return len(num)"
   ]
  },
  {
   "cell_type": "markdown",
   "metadata": {},
   "source": [
    "### 서울에서 김서방 찾기\n",
    "##### String형 배열 seoul의 element중 \"Kim\"의 위치 x를 찾아, \"김서방은 x에 있다\"는 String을 반환하는 함수, solution을 완성하세요. seoul에 \"Kim\"은 오직 한 번만 나타나며 잘못된 값이 입력되는 경우는 없습니다.\n",
    "\n",
    "###### 제한 사항\n",
    "###### seoul은 길이 1 이상, 1000 이하인 배열입니다.\n",
    "###### seoul의 원소는 길이 1 이상, 20 이하인 문자열입니다.\n",
    "###### \"Kim\"은 반드시 seoul 안에 포함되어 있습니다."
   ]
  },
  {
   "cell_type": "code",
   "execution_count": 41,
   "metadata": {},
   "outputs": [],
   "source": [
    "def solution(seoul):\n",
    "    for idx, val in enumerate(seoul):\n",
    "        if val == \"Kim\":\n",
    "            location = idx\n",
    "    return \"김서방은 {}에 있다\".format(location)\n",
    "\n"
   ]
  },
  {
   "cell_type": "code",
   "execution_count": 42,
   "metadata": {},
   "outputs": [
    {
     "data": {
      "text/plain": [
       "'김서방은 1에 있다'"
      ]
     },
     "execution_count": 42,
     "metadata": {},
     "output_type": "execute_result"
    }
   ],
   "source": [
    "solution(['Jane','Kim'])"
   ]
  },
  {
   "cell_type": "code",
   "execution_count": null,
   "metadata": {},
   "outputs": [],
   "source": [
    "# .index(value) 를 사용하면 더 짧게 완성이 가능\n",
    "def solution(seoul):\n",
    "    return \"김서방은 {}에 있다\".format(seoul.index('Kim'))"
   ]
  },
  {
   "cell_type": "markdown",
   "metadata": {},
   "source": [
    "### 문자열 다루기 기본\n",
    "##### 문자열 s의 길이가 4 혹은 6이고, 숫자로만 구성돼있는지 확인해주는 함수, solution을 완성하세요. 예를 들어 s가 \"a234\"이면 False를 리턴하고 \"1234\"라면 True를 리턴하면 됩니다. (s는 길이 1 이상, 길이 8이하인 문자열)"
   ]
  },
  {
   "cell_type": "code",
   "execution_count": 115,
   "metadata": {},
   "outputs": [],
   "source": [
    "def solution(s):\n",
    "    lst = [letter for letter in s]\n",
    "\n",
    "    if len(lst)==4 or len(lst)==6:\n",
    "        for i in lst:\n",
    "            try:\n",
    "                lst = [int(i) for i in lst]\n",
    "                return True\n",
    "            except:\n",
    "                return False\n",
    "    else:\n",
    "        return False\n",
    "\n",
    "#풀고나니 너무 꼬아서 생각했다. 문자열에 있는 글자를 일일이 확인해야 한다고 생각했는데,아래 풀이처럼 한 번에 int(문자열)로 확인할 수도 있었다"
   ]
  },
  {
   "cell_type": "code",
   "execution_count": 117,
   "metadata": {},
   "outputs": [
    {
     "name": "stdout",
     "output_type": "stream",
     "text": [
      "False\n",
      "False\n",
      "True\n"
     ]
    }
   ],
   "source": [
    "print(solution('12ww34'))\n",
    "print(solution('a234'))\n",
    "print(solution('1234'))"
   ]
  },
  {
   "cell_type": "code",
   "execution_count": 118,
   "metadata": {},
   "outputs": [],
   "source": [
    "#다른 사람의 풀이. \n",
    "def alpha_string46(s):\n",
    "    try:\n",
    "        int(s)\n",
    "    except:\n",
    "        return False\n",
    "    return len(s) == 4 or len(s) == 6 "
   ]
  },
  {
   "cell_type": "code",
   "execution_count": 121,
   "metadata": {},
   "outputs": [
    {
     "name": "stdout",
     "output_type": "stream",
     "text": [
      "False\n",
      "False\n",
      "True\n"
     ]
    }
   ],
   "source": [
    "print(alpha_string46('12ww34'))\n",
    "print(alpha_string46('a234'))\n",
    "print(alpha_string46('1234'))"
   ]
  },
  {
   "cell_type": "code",
   "execution_count": null,
   "metadata": {},
   "outputs": [],
   "source": []
  }
 ],
 "metadata": {
  "interpreter": {
   "hash": "6befbeed676a172e080901c5981be1b0cd24cf8f27aeb32c0504fe9f13c0d96d"
  },
  "kernelspec": {
   "display_name": "Python 3.8.8 64-bit ('study': conda)",
   "language": "python",
   "name": "python3"
  },
  "language_info": {
   "codemirror_mode": {
    "name": "ipython",
    "version": 3
   },
   "file_extension": ".py",
   "mimetype": "text/x-python",
   "name": "python",
   "nbconvert_exporter": "python",
   "pygments_lexer": "ipython3",
   "version": "3.8.8"
  },
  "orig_nbformat": 4
 },
 "nbformat": 4,
 "nbformat_minor": 2
}
