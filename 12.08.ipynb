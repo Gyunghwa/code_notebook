{
 "cells": [
  {
   "cell_type": "markdown",
   "metadata": {},
   "source": [
    "### 예산\n",
    "S사에서는 각 부서에 필요한 물품을 지원해 주기 위해 부서별로 물품을 구매하는데 필요한 금액을 조사했습니다. 그러나, 전체 예산이 정해져 있기 때문에 모든 부서의 물품을 구매해 줄 수는 없습니다. 그래서 최대한 많은 부서의 물품을 구매해 줄 수 있도록 하려고 합니다.  \n",
    "\n",
    "물품을 구매해 줄 때는 각 부서가 신청한 금액만큼을 모두 지원해 줘야 합니다. 예를 들어 1,000원을 신청한 부서에는 정확히 1,000원을 지원해야 하며, 1,000원보다 적은 금액을 지원해 줄 수는 없습니다.  \n",
    "\n",
    "부서별로 신청한 금액이 들어있는 배열 d와 예산 budget이 매개변수로 주어질 때, 최대 몇 개의 부서에 물품을 지원할 수 있는지 return 하도록 solution 함수를 완성해주세요.  \n",
    "\n",
    "제한사항  \n",
    "-d는 부서별로 신청한 금액이 들어있는 배열이며, 길이(전체 부서의 개수)는 1 이상 100 이하입니다.  \n",
    "-d의 각 원소는 부서별로 신청한 금액을 나타내며, 부서별 신청 금액은 1 이상 100,000 이하의 자연수입니다.  \n",
    "-budget은 예산을 나타내며, 1 이상 10,000,000 이하의 자연수입니다."
   ]
  },
  {
   "cell_type": "code",
   "execution_count": 19,
   "metadata": {},
   "outputs": [],
   "source": [
    "#3가지 경우.\n",
    "#1.모자를때, 2.예산이 딱 맞을 때, 3.예산이 남을 때\n",
    "\n",
    "\n",
    "def solution(d, budget):\n",
    "    count = 0\n",
    "    for idx, val in enumerate(sorted(d)):   #sorted(d)를 활용하여 작은 수부터 예산에서 차감하도록 한다\n",
    "        budget -= val\n",
    "        count += 1\n",
    "        if budget < 0:   #예산이 모자를 때\n",
    "            return idx\n",
    "        elif budget == 0:  #예산이 딱 맞을 때\n",
    "            return idx+1\n",
    "        elif budget > 0 and count == len(d):  #예산이 남을 때\n",
    "            return count\n"
   ]
  },
  {
   "cell_type": "code",
   "execution_count": 20,
   "metadata": {},
   "outputs": [
    {
     "data": {
      "text/plain": [
       "1"
      ]
     },
     "execution_count": 20,
     "metadata": {},
     "output_type": "execute_result"
    }
   ],
   "source": [
    "solution([200],300)"
   ]
  },
  {
   "cell_type": "code",
   "execution_count": null,
   "metadata": {},
   "outputs": [],
   "source": [
    "#다른 풀이\n",
    "def solution(d, budget):\n",
    "    d.sort()    #오름차순으로 정렬\n",
    "    while budget < sum(d):   #budget이 sum(d)보다 커지면 반복문 중단\n",
    "        d.pop()\n",
    "    return len(d)\n",
    "\n",
    "#다른 풀이2\n",
    "def solution(d, budget):\n",
    "    d.sort()\n",
    "    cnt = 0\n",
    "    for i in d:\n",
    "        budget -= i\n",
    "        if budget < 0 :\n",
    "            break\n",
    "        cnt += 1\n",
    "    return cnt"
   ]
  }
 ],
 "metadata": {
  "interpreter": {
   "hash": "6befbeed676a172e080901c5981be1b0cd24cf8f27aeb32c0504fe9f13c0d96d"
  },
  "kernelspec": {
   "display_name": "Python 3.8.8 64-bit ('study': conda)",
   "language": "python",
   "name": "python3"
  },
  "language_info": {
   "codemirror_mode": {
    "name": "ipython",
    "version": 3
   },
   "file_extension": ".py",
   "mimetype": "text/x-python",
   "name": "python",
   "nbconvert_exporter": "python",
   "pygments_lexer": "ipython3",
   "version": "3.8.8"
  },
  "orig_nbformat": 4
 },
 "nbformat": 4,
 "nbformat_minor": 2
}
