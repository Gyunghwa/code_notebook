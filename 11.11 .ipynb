{
 "cells": [
  {
   "cell_type": "markdown",
   "metadata": {},
   "source": [
    "2020 카카오인턴십 \"키패드 누르기\""
   ]
  },
  {
   "cell_type": "code",
   "execution_count": null,
   "metadata": {},
   "outputs": [],
   "source": [
    "#손가락 간 거리 구하는 함수\n",
    "position = {1:(0,0), 2:(0,1), 3:(0,2),\n",
    "            4:(1,0), 5:(1,1), 6:(1,2),\n",
    "            7:(2,0), 8:(2,1), 9:(2,2),\n",
    "            \"*\": (3,0), 0:(3,1), \"#\":(3,2)}\n",
    "\n",
    "def distance(num, now_l, now_r, pos, handed):\n",
    "    X, Y = 0, 1\n",
    "    dist_l = abs(pos[num][X]-pos[now_l][X]) + abs(pos[num][Y]-pos[now_l][Y])\n",
    "    dist_r = abs(pos[num][X]-pos[now_r][X]) + abs(pos[num][Y]-pos[now_r][Y])\n",
    "    if dist_l == dist_r :\n",
    "        return 'R' if handed == 'right' else 'L'\n",
    "    elif dist_l > dist_r :\n",
    "        return \"R\"\n",
    "    else:\n",
    "        return \"L\""
   ]
  },
  {
   "cell_type": "code",
   "execution_count": 42,
   "metadata": {},
   "outputs": [],
   "source": [
    "def solution(numbers, hand):\n",
    "    \n",
    "    result = \"\"\n",
    "    for n in numbers:\n",
    "        if n % 3 == 1:\n",
    "            result += 'L'\n",
    "            now_l = n\n",
    "        elif n % 3 == 0:\n",
    "            result += 'R'\n",
    "            now_r = n\n",
    "        else:\n",
    "            val = distance(n,now_l, now_r, position,hand)\n",
    "            result += val\n",
    "            if result[-1] == 'L':\n",
    "                now_l = n\n",
    "            else:\n",
    "                now_r = n\n",
    "    return result"
   ]
  },
  {
   "cell_type": "code",
   "execution_count": 43,
   "metadata": {},
   "outputs": [
    {
     "data": {
      "text/plain": [
       "'LRLLRRLLLRR'"
      ]
     },
     "execution_count": 43,
     "metadata": {},
     "output_type": "execute_result"
    }
   ],
   "source": [
    "solution([7, 0, 8, 2, 8, 3, 1, 5, 7, 6, 2], \"left\")"
   ]
  },
  {
   "cell_type": "markdown",
   "metadata": {},
   "source": [
    "level1. \"직사각형 별찍기\""
   ]
  },
  {
   "cell_type": "code",
   "execution_count": 6,
   "metadata": {},
   "outputs": [
    {
     "name": "stdout",
     "output_type": "stream",
     "text": [
      "*****\n",
      "*****\n",
      "*****\n"
     ]
    }
   ],
   "source": [
    "a, b = map(int, input().strip().split(\" \"))\n",
    "for i in range(b):\n",
    "    print(\"*\" * a)"
   ]
  },
  {
   "cell_type": "markdown",
   "metadata": {},
   "source": [
    "level1. \"x만큼 간격이 있는 n개의 숫자\""
   ]
  },
  {
   "cell_type": "code",
   "execution_count": 13,
   "metadata": {},
   "outputs": [],
   "source": [
    "def solution(x, n):\n",
    "    answer = [x]\n",
    "    iter = x\n",
    "    for i in range(n-1):\n",
    "        val = x + iter\n",
    "        answer.append(val)\n",
    "        x = val\n",
    "    return answer"
   ]
  },
  {
   "cell_type": "code",
   "execution_count": 16,
   "metadata": {},
   "outputs": [
    {
     "data": {
      "text/plain": [
       "[-4, -8]"
      ]
     },
     "execution_count": 16,
     "metadata": {},
     "output_type": "execute_result"
    }
   ],
   "source": [
    "solution(-4,2)"
   ]
  },
  {
   "cell_type": "markdown",
   "metadata": {},
   "source": [
    "level1. \"행렬의 덧셈\""
   ]
  },
  {
   "cell_type": "code",
   "execution_count": 48,
   "metadata": {},
   "outputs": [],
   "source": [
    "def sol(arr1, arr2):\n",
    "    answer = []\n",
    "    for k in range(len(arr1)):\n",
    "        answer.append([i+j for i, j in zip(arr1[k],arr2[k])])\n",
    "    return answer"
   ]
  },
  {
   "cell_type": "code",
   "execution_count": 50,
   "metadata": {},
   "outputs": [
    {
     "data": {
      "text/plain": [
       "[[4], [6]]"
      ]
     },
     "execution_count": 50,
     "metadata": {},
     "output_type": "execute_result"
    }
   ],
   "source": [
    "sol([[1],[2]], [[3],[4]])"
   ]
  },
  {
   "cell_type": "markdown",
   "metadata": {},
   "source": [
    "level1.\"핸드폰 번호 가리기\""
   ]
  },
  {
   "cell_type": "code",
   "execution_count": 57,
   "metadata": {},
   "outputs": [],
   "source": [
    "def phone_num(phn):\n",
    "    numbers = len(phn[:-4])\n",
    "    phn = \"*\"* numbers + phn[-4:]\n",
    "    return phn\n",
    "    \n"
   ]
  },
  {
   "cell_type": "code",
   "execution_count": 58,
   "metadata": {},
   "outputs": [
    {
     "data": {
      "text/plain": [
       "'*******4444'"
      ]
     },
     "execution_count": 58,
     "metadata": {},
     "output_type": "execute_result"
    }
   ],
   "source": [
    "phone_num(\"01033334444\")"
   ]
  },
  {
   "cell_type": "code",
   "execution_count": null,
   "metadata": {},
   "outputs": [],
   "source": []
  }
 ],
 "metadata": {
  "interpreter": {
   "hash": "6befbeed676a172e080901c5981be1b0cd24cf8f27aeb32c0504fe9f13c0d96d"
  },
  "kernelspec": {
   "display_name": "Python 3.8.8 64-bit ('study': conda)",
   "language": "python",
   "name": "python3"
  },
  "language_info": {
   "codemirror_mode": {
    "name": "ipython",
    "version": 3
   },
   "file_extension": ".py",
   "mimetype": "text/x-python",
   "name": "python",
   "nbconvert_exporter": "python",
   "pygments_lexer": "ipython3",
   "version": "3.8.8"
  },
  "orig_nbformat": 4
 },
 "nbformat": 4,
 "nbformat_minor": 2
}
