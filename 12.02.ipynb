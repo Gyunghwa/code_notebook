{
 "cells": [
  {
   "cell_type": "markdown",
   "metadata": {},
   "source": [
    "### 비밀지도\n",
    "2018 KAKAO BLIND RECRUITMENT 1차  \n",
    "https://programmers.co.kr/learn/courses/30/lessons/17681"
   ]
  },
  {
   "cell_type": "code",
   "execution_count": 62,
   "metadata": {},
   "outputs": [],
   "source": [
    "def solution(n, arr1,arr2):\n",
    "    #배열을 이진수로 변환하는 함수\n",
    "    #.rjust혹은 .zfill을 알았다면 간단하게 변환할 수 있었을 것\n",
    "    # def convert(arr, n):\n",
    "    #     new_arr = []\n",
    "    #     for i in range(len(arr)):\n",
    "    #         temp = [j for j in format(arr[i], 'b')]\n",
    "    #         if len(temp)<n:\n",
    "    #             temp = ['0']*(n-len(temp)) + temp\n",
    "    #             new_arr.append(temp)\n",
    "    #         elif len(temp) ==n:\n",
    "    #             new_arr.append(temp)\n",
    "    #     return new_arr\n",
    "\n",
    "    #개선\n",
    "    def convert(arr, n):\n",
    "        new_arr = []\n",
    "        for i in arr:\n",
    "            new_arr.append(format(i,'b').zfill(n))\n",
    "        return new_arr\n",
    "\n",
    "    new_arr1 = convert(arr1,n)\n",
    "    new_arr2 = convert(arr2,n) \n",
    "\n",
    "    #1과 0을 비교해서 \"#\" 과 \" \"으로 변환하기\n",
    "    result = []\n",
    "    for i in range(n):\n",
    "        for j in range(n):  \n",
    "            if (new_arr1[i][j]=='0'and new_arr2[i][j]=='0'):\n",
    "                result.append(\" \")\n",
    "            else:\n",
    "                result.append(\"#\")\n",
    "    #result를 n개씩 쪼개기\n",
    "    result = [result[i*n : (i+1)*n] for i in range((len(result)+n-1) // n)]\n",
    "    #합치기\n",
    "    answer = [\"\".join(result[i]) for i in range(n)]\n",
    "    return answer"
   ]
  },
  {
   "cell_type": "code",
   "execution_count": 64,
   "metadata": {},
   "outputs": [
    {
     "data": {
      "text/plain": [
       "['#####', '# # #', '### #', '#  ##', '#####']"
      ]
     },
     "execution_count": 64,
     "metadata": {},
     "output_type": "execute_result"
    }
   ],
   "source": [
    "\n",
    "arr1 = [9, 20, 28, 18, 11]\n",
    "arr2 = [30, 1, 21, 17, 28]\n",
    "n=5\n",
    "solution(n, arr1, arr2)"
   ]
  },
  {
   "cell_type": "code",
   "execution_count": null,
   "metadata": {},
   "outputs": [],
   "source": [
    "#다른 풀이\n",
    "def solution(n, arr1, arr2):\n",
    "    answer = []\n",
    "    for i,j in zip(arr1,arr2):\n",
    "        a12 = str(bin(i|j)[2:])    #bin(): Convert an integer number to a binary string prefixed with “0b”.\n",
    "        #bin(i|j) : i와 j를 이진수로 변환한 후 or 연산 수행. 따라서 1100 | 1001 이면 1101 도출\n",
    "        # | : bit 단위로 or 연산 수행\n",
    "        #비트연산 : 비트 단위로 계산, 같은 자리끼리 연산하는 것.\n",
    "        a12=a12.rjust(n,'0')\n",
    "        #.rjust(length, character) : right align the string, using a specified character (space is default) as the fill character.\n",
    "        #.ljust(length, character) : left align the string, same as .rjust()\n",
    "        #.zfill(width) :  pads string on the left with zeros to fill width.\n",
    "        a12=a12.replace('1','#')\n",
    "        a12=a12.replace('0',' ')\n",
    "        answer.append(a12)\n",
    "    return answer"
   ]
  },
  {
   "cell_type": "code",
   "execution_count": null,
   "metadata": {},
   "outputs": [],
   "source": []
  }
 ],
 "metadata": {
  "interpreter": {
   "hash": "6befbeed676a172e080901c5981be1b0cd24cf8f27aeb32c0504fe9f13c0d96d"
  },
  "kernelspec": {
   "display_name": "Python 3.8.8 64-bit ('study': conda)",
   "language": "python",
   "name": "python3"
  },
  "language_info": {
   "codemirror_mode": {
    "name": "ipython",
    "version": 3
   },
   "file_extension": ".py",
   "mimetype": "text/x-python",
   "name": "python",
   "nbconvert_exporter": "python",
   "pygments_lexer": "ipython3",
   "version": "3.8.8"
  },
  "orig_nbformat": 4
 },
 "nbformat": 4,
 "nbformat_minor": 2
}
