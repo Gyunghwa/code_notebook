{
 "cells": [
  {
   "cell_type": "markdown",
   "metadata": {},
   "source": [
    "### 하샤드 수"
   ]
  },
  {
   "cell_type": "markdown",
   "metadata": {},
   "source": [
    "양의 정수 x가 하샤드 수이려면 x의 자릿수의 합으로 x가 나누어져야 합니다. 예를 들어 18의 자릿수 합은 1+8=9이고, 18은 9로 나누어 떨어지므로 18은 하샤드 수입니다. 자연수 x를 입력받아 x가 하샤드 수인지 아닌지 검사하는 함수, solution을 완성해주세요."
   ]
  },
  {
   "cell_type": "code",
   "execution_count": 7,
   "metadata": {},
   "outputs": [],
   "source": [
    "def solution(x):\n",
    "    numbers= [int(n) for n in str(x)]\n",
    "    if x % sum(numbers) == 0:\n",
    "        return True\n",
    "    else:\n",
    "        return False\n"
   ]
  },
  {
   "cell_type": "markdown",
   "metadata": {},
   "source": [
    "### 평균 구하기"
   ]
  },
  {
   "cell_type": "markdown",
   "metadata": {},
   "source": [
    "정수를 담고 있는 배열 arr의 평균값을 return하는 함수, solution을 완성해보세요"
   ]
  },
  {
   "cell_type": "code",
   "execution_count": 10,
   "metadata": {},
   "outputs": [],
   "source": [
    "def solution(arr):\n",
    "    return sum(arr) / len(arr)"
   ]
  },
  {
   "cell_type": "markdown",
   "metadata": {},
   "source": [
    "### 콜라츠 추측"
   ]
  },
  {
   "cell_type": "markdown",
   "metadata": {},
   "source": [
    "1937년 Collatz란 사람에 의해 제기된 이 추측은, 주어진 수가 1이 될때까지 다음 작업을 반복하면, 모든 수를 1로 만들 수 있다는 추측입니다. 예를 들어, 입력된 수가 6이라면 6→3→10→5→16→8→4→2→1 이 되어 총 8번 만에 1이 됩니다. 위 작업을 몇 번이나 반복해야하는지 반환하는 함수, solution을 완성해 주세요. 단, 작업을 500번을 반복해도 1이 되지 않는다면 –1을 반환해 주세요."
   ]
  },
  {
   "cell_type": "code",
   "execution_count": 38,
   "metadata": {},
   "outputs": [],
   "source": [
    "def solution(num):\n",
    "    current_num = num\n",
    "    count = 0\n",
    "    while current_num != 1 and count !=500:\n",
    "        if current_num % 2 == 0 :\n",
    "            current_num = current_num / 2\n",
    "            count += 1\n",
    "        elif current_num % 2 == 1:\n",
    "            current_num = current_num*3+1\n",
    "            count += 1\n",
    "        \n",
    "        elif current_num == 1:\n",
    "            break\n",
    "    if count == 500:\n",
    "        return -1\n",
    "    else:\n",
    "        return count"
   ]
  },
  {
   "cell_type": "code",
   "execution_count": 41,
   "metadata": {},
   "outputs": [
    {
     "data": {
      "text/plain": [
       "8"
      ]
     },
     "execution_count": 41,
     "metadata": {},
     "output_type": "execute_result"
    }
   ],
   "source": [
    "solution(6)"
   ]
  },
  {
   "cell_type": "markdown",
   "metadata": {},
   "source": [
    "### 최대공약수와 최소공배수"
   ]
  },
  {
   "cell_type": "markdown",
   "metadata": {},
   "source": [
    "두 수를 입력받아 두 수의 최대공약수와 최소공배수를 반환하는 함수, solution을 완성해 보세요. 배열의 맨 앞에 최대공약수, 그다음 최소공배수를 넣어 반환하면 됩니다. 예를 들어 두 수 3, 12의 최대공약수는 3, 최소공배수는 12이므로 solution(3, 12)는 [3, 12]를 반환해야 합니다."
   ]
  },
  {
   "cell_type": "markdown",
   "metadata": {},
   "source": [
    "1. 각 수의 약수 배열 구하기\n",
    "2. 공통 값이 있으면 그 중 작은 값이 공약수.\n",
    "3. if 최대공약수 == 1: 최소공배수=m*n\n",
    "    else: m/최대공약수 * n/최대공약수"
   ]
  },
  {
   "cell_type": "code",
   "execution_count": 74,
   "metadata": {},
   "outputs": [],
   "source": [
    "def solution(n,m):\n",
    "    #약수 배열 구하는 함수\n",
    "    def divisior(x):\n",
    "        n = list(range(1,1000000))\n",
    "        return [i for i in n if x%i == 0]\n",
    "\n",
    "\n",
    "\n",
    "    #n,m 두 수의 약수 구하기\n",
    "    n_divisor = divisior(n)\n",
    "    m_divisor = divisior(m)\n",
    "\n",
    "    #공약수 구하기\n",
    "    c_divisor = [i for i in n_divisor if i in m_divisor]\n",
    "  \n",
    "    #최대공약수\n",
    "    greatest_c_divisor = c_divisor[-1:]\n",
    "    string = [str(i) for i in greatest_c_divisor]\n",
    "    string = \"\".join(string)\n",
    "    greatest_c_divisor = int(string)\n",
    "\n",
    "\n",
    "    #최소공배수\n",
    "    if greatest_c_divisor == 1:\n",
    "        least_c_multiple = n*m\n",
    "    elif m%n == 0:\n",
    "        least_c_multiple = m\n",
    "    elif n%m == 0:\n",
    "        least_c_multiple = n\n",
    "    else:\n",
    "        least_c_multiple = m/greatest_c_divisor * n/greatest_c_divisor * greatest_c_divisor\n",
    "\n",
    "    return [greatest_c_divisor, least_c_multiple]"
   ]
  },
  {
   "cell_type": "markdown",
   "metadata": {},
   "source": [
    "위의 풀이는 소인수분해의 경우만을 생각해서 코드가 복잡해졌다. 일반 for 문이나 유클리드 호제법을 사용해서 구하면 간편하다는 것을 알았다"
   ]
  },
  {
   "cell_type": "code",
   "execution_count": null,
   "metadata": {},
   "outputs": [],
   "source": [
    "#for문을 사용한 최대공약수 최소공배수 구하기\n",
    "\n",
    "def solution(n,m):\n",
    "    #최대공약수\n",
    "    for i in range(min(n,m), 0 , -1):\n",
    "        if n%i == 0 and m%i ==0:\n",
    "            gcd = i\n",
    "            break\n",
    "    #최소공배수\n",
    "    for j in range(max(n,m), (n*m)+1):\n",
    "        if j%n==0 and j%m==0:\n",
    "            lcm = j\n",
    "            break\n",
    "    return [i, j]"
   ]
  },
  {
   "cell_type": "code",
   "execution_count": null,
   "metadata": {},
   "outputs": [],
   "source": [
    "#유클리드 호제법을 활용한 최대공약수 최소공배수 구하기\n",
    "\n",
    "def solution(n,m):\n",
    "    #최대공약수\n",
    "    def GCD(n,m):\n",
    "        while(m):\n",
    "            n,m = m, n%m\n",
    "        return n \n",
    "    #최소공배수\n",
    "    LCM = (n*m) // GCD(n,m)   #n*m을 최대공약수로 나눈 몫 = 최소공배수\n",
    "    return [GCD(n,m), LCM]\n"
   ]
  }
 ],
 "metadata": {
  "interpreter": {
   "hash": "6befbeed676a172e080901c5981be1b0cd24cf8f27aeb32c0504fe9f13c0d96d"
  },
  "kernelspec": {
   "display_name": "Python 3.8.8 64-bit ('study': conda)",
   "language": "python",
   "name": "python3"
  },
  "language_info": {
   "codemirror_mode": {
    "name": "ipython",
    "version": 3
   },
   "file_extension": ".py",
   "mimetype": "text/x-python",
   "name": "python",
   "nbconvert_exporter": "python",
   "pygments_lexer": "ipython3",
   "version": "3.8.8"
  },
  "orig_nbformat": 4
 },
 "nbformat": 4,
 "nbformat_minor": 2
}
