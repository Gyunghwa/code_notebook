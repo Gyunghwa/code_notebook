{
 "cells": [
  {
   "cell_type": "markdown",
   "metadata": {},
   "source": [
    "### 이상한 문자 만들기"
   ]
  },
  {
   "cell_type": "markdown",
   "metadata": {},
   "source": [
    "문자열 s는 한 개 이상의 단어로 구성되어 있습니다. 각 단어는 하나 이상의 공백문자로 구분되어 있습니다. 각 단어의 짝수번째 알파벳은 대문자로, 홀수번째 알파벳은 소문자로 바꾼 문자열을 리턴하는 함수, solution을 완성하세요."
   ]
  },
  {
   "cell_type": "code",
   "execution_count": 36,
   "metadata": {},
   "outputs": [
    {
     "data": {
      "text/plain": [
       "'TrY HeLlO WoRlD PyThOn'"
      ]
     },
     "execution_count": 36,
     "metadata": {},
     "output_type": "execute_result"
    }
   ],
   "source": [
    "def solution(string):\n",
    "    words = string.split(\" \")\n",
    "    answer = \"\"\n",
    "    for word in words:\n",
    "        for idx, val in enumerate(word):\n",
    "            if idx % 2 == 1:\n",
    "                answer += val.lower()\n",
    "            elif idx % 2 == 0:\n",
    "                answer += val.upper()\n",
    "        answer += \" \"\n",
    "    return answer.rstrip( )\n",
    "\n",
    "solution('try hello world python')\n",
    "# 실패. 문장을 단어별로 분리하는 것 보다 문장에서 공백이 생겼을 때 인덱스 넘버를 리셋하는 방식이 낫다는 댓글대로 다시 시도\n"
   ]
  },
  {
   "cell_type": "code",
   "execution_count": 35,
   "metadata": {},
   "outputs": [
    {
     "data": {
      "text/plain": [
       "'TrY HeLlO WoRlD PyThOn'"
      ]
     },
     "execution_count": 35,
     "metadata": {},
     "output_type": "execute_result"
    }
   ],
   "source": [
    "def solution(string):\n",
    "    count = 0\n",
    "    answer =\"\"\n",
    "    for letter in string:\n",
    "        if letter != \" \":\n",
    "            if count %2 == 0:\n",
    "                answer += letter.upper()\n",
    "            else:\n",
    "                answer += letter.lower()\n",
    "            count += 1\n",
    "        elif letter == \" \":\n",
    "            answer += letter\n",
    "            count = 0\n",
    "    return answer\n",
    "\n",
    "solution('try hello world python')"
   ]
  },
  {
   "cell_type": "code",
   "execution_count": null,
   "metadata": {},
   "outputs": [],
   "source": []
  }
 ],
 "metadata": {
  "interpreter": {
   "hash": "6befbeed676a172e080901c5981be1b0cd24cf8f27aeb32c0504fe9f13c0d96d"
  },
  "kernelspec": {
   "display_name": "Python 3.8.8 64-bit ('study': conda)",
   "language": "python",
   "name": "python3"
  },
  "language_info": {
   "codemirror_mode": {
    "name": "ipython",
    "version": 3
   },
   "file_extension": ".py",
   "mimetype": "text/x-python",
   "name": "python",
   "nbconvert_exporter": "python",
   "pygments_lexer": "ipython3",
   "version": "3.8.8"
  },
  "orig_nbformat": 4
 },
 "nbformat": 4,
 "nbformat_minor": 2
}
