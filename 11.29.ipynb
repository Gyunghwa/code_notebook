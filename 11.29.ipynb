{
 "cells": [
  {
   "cell_type": "markdown",
   "metadata": {},
   "source": [
    "### 다트 게임\n",
    "카카오톡 게임별의 하반기 신규 서비스로 다트 게임을 출시하기로 했다. 다트 게임은 다트판에 다트를 세 차례 던져 그 점수의 합계로 실력을 겨루는 게임으로, 모두가 간단히 즐길 수 있다.\n",
    "갓 입사한 무지는 코딩 실력을 인정받아 게임의 핵심 부분인 점수 계산 로직을 맡게 되었다. 다트 게임의 점수 계산 로직은 아래와 같다.\n",
    "\n",
    "다트 게임은 총 3번의 기회로 구성된다.  \n",
    "각 기회마다 얻을 수 있는 점수는 0점에서 10점까지이다.  \n",
    "점수와 함께 Single(S), Double(D), Triple(T) 영역이 존재하고 각 영역 당첨 시 점수에서 1제곱, 2제곱, 3제곱 (점수1 , 점수2 , 점수3 )으로 계산된다.  \n",
    "옵션으로 스타상(*) , 아차상(#)이 존재하며 스타상(*) 당첨 시 해당 점수와 바로 전에 얻은 점수를 각 2배로 만든다. 아차상(#) 당첨 시 해당 점수는 마이너스된다.  \n",
    "스타상(*)은 첫 번째 기회에서도 나올 수 있다. 이 경우 첫 번째 스타상(*)의 점수만 2배가 된다. (예제 4번 참고) \n",
    "스타상(*)의 효과는 다른 스타상(*)의 효과와 중첩될 수 있다. 이 경우 중첩된 스타상(*) 점수는 4배가 된다. (예제 4번 참고)  \n",
    "스타상(*)의 효과는 아차상(#)의 효과와 중첩될 수 있다. 이 경우 중첩된 아차상(#)의 점수는 -2배가 된다. (예제 5번 참고)  \n",
    "Single(S), Double(D), Triple(T)은 점수마다 하나씩 존재한다.  \n",
    "스타상(*), 아차상(#)은 점수마다 둘 중 하나만 존재할 수 있으며, 존재하지 않을 수도 있다.  \n",
    "0~10의 정수와 문자 S, D, T, *, #로 구성된 문자열이 입력될 시 총점수를 반환하는 함수를 작성하라.  "
   ]
  },
  {
   "cell_type": "markdown",
   "metadata": {},
   "source": [
    "https://programmers.co.kr/learn/courses/30/lessons/17682"
   ]
  },
  {
   "cell_type": "code",
   "execution_count": 184,
   "metadata": {},
   "outputs": [
    {
     "name": "stdout",
     "output_type": "stream",
     "text": [
      "['1', '0', 'D'] ['3', 'S', '#'] ['8', 'T', '*']\n",
      "100 -6 1024\n"
     ]
    },
    {
     "data": {
      "text/plain": [
       "1118"
      ]
     },
     "execution_count": 184,
     "metadata": {},
     "output_type": "execute_result"
    }
   ],
   "source": [
    "def solution(dartResult):\n",
    "    #3라운드의 점수를 각각 나누기\n",
    "    import re\n",
    "    score = re.findall(r'\\d+\\w\\*?\\#?', dartResult)\n",
    "\n",
    "    #라운드 별 점수 구하기\n",
    "    score1 = [i for i in score[0]]\n",
    "    score2 = [i for i in score[1]]\n",
    "    score3 = [i for i in score[2]]\n",
    "    print(score1, score2, score3)\n",
    "\n",
    "    #점수 구하는 함수\n",
    "    def get_score(num, bonus, option=None):\n",
    "        \n",
    "        if bonus == \"S\":\n",
    "            num = num\n",
    "        elif bonus == \"D\":\n",
    "            num = num**2\n",
    "        elif bonus == \"T\":\n",
    "            num = num**3\n",
    "        result = num\n",
    "        if option == \"*\":\n",
    "            result = num*2\n",
    "        elif option ==\"#\":\n",
    "            result = -num\n",
    "        return result\n",
    "\n",
    "    #점수 구하는 함수2\n",
    "    def get_round_score(score_list):\n",
    "        if \"1\" in score_list and \"0\" in score_list:\n",
    "            number = 10\n",
    "            score_list.remove('1')        #길이 하나 줄여줘야함\n",
    "        else:\n",
    "            number = int(score_list[0])\n",
    "\n",
    "        if len(score_list)>2:\n",
    "            return get_score(number,score_list[-2], score_list[-1])\n",
    "        else:\n",
    "            return get_score(number, score_list[-1])\n",
    "    \n",
    "    #라운드 별 점수\n",
    "    score1_val = get_round_score(score1)\n",
    "    score2_val = get_round_score(score2)\n",
    "    score3_val = get_round_score(score3)\n",
    "\n",
    "    if \"*\" in score2:\n",
    "        score1_val = score1_val*2\n",
    "\n",
    "    if \"*\" in score3:            #elif가 아닌 if로 해야함\n",
    "        score2_val = score2_val*2\n",
    "\n",
    "    print(score1_val, score2_val, score3_val)\n",
    "\n",
    "    return score1_val+score2_val+score3_val\n",
    "\n",
    "solution('10D3S#8T*')"
   ]
  },
  {
   "cell_type": "code",
   "execution_count": 185,
   "metadata": {},
   "outputs": [
    {
     "name": "stdout",
     "output_type": "stream",
     "text": [
      "['10', 'D', '3', 'S', '#', '8', 'T', '*']\n"
     ]
    },
    {
     "data": {
      "text/plain": [
       "1118"
      ]
     },
     "execution_count": 185,
     "metadata": {},
     "output_type": "execute_result"
    }
   ],
   "source": [
    "#다른 사람 풀이\n",
    "def solution(dartResult):\n",
    "    point = []\n",
    "    answer = []\n",
    "    dartResult = dartResult.replace('10','k')\n",
    "    point = ['10' if i == 'k' else i for i in dartResult]\n",
    "    print(point)\n",
    "\n",
    "    i = -1\n",
    "    sdt = ['S', 'D', 'T']\n",
    "    for j in point:\n",
    "        if j in sdt :\n",
    "            answer[i] = answer[i] ** (sdt.index(j)+1)    #answer[-1] = []   \n",
    "        elif j == '*':\n",
    "            answer[i] = answer[i] * 2\n",
    "            if i != 0 :                                 #첫번째에 *이 있으면 자기 자신만 x2지만 두번째, 세번째일 때는 앞의 숫자에도 x2를 해준다\n",
    "                answer[i - 1] = answer[i - 1] * 2\n",
    "        elif j == '#':\n",
    "            answer[i] = answer[i] * (-1)\n",
    "        else:\n",
    "            answer.append(int(j))\n",
    "            i += 1                                     #숫자일때만 round가 바뀌므로.\n",
    "    return sum(answer)\n",
    "\n",
    "solution(\"10D3S#8T*\")"
   ]
  },
  {
   "cell_type": "code",
   "execution_count": null,
   "metadata": {},
   "outputs": [],
   "source": []
  }
 ],
 "metadata": {
  "interpreter": {
   "hash": "6befbeed676a172e080901c5981be1b0cd24cf8f27aeb32c0504fe9f13c0d96d"
  },
  "kernelspec": {
   "display_name": "Python 3.8.8 64-bit ('study': conda)",
   "language": "python",
   "name": "python3"
  },
  "language_info": {
   "codemirror_mode": {
    "name": "ipython",
    "version": 3
   },
   "file_extension": ".py",
   "mimetype": "text/x-python",
   "name": "python",
   "nbconvert_exporter": "python",
   "pygments_lexer": "ipython3",
   "version": "3.8.8"
  },
  "orig_nbformat": 4
 },
 "nbformat": 4,
 "nbformat_minor": 2
}
