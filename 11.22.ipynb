{
 "cells": [
  {
   "cell_type": "markdown",
   "metadata": {},
   "source": [
    "### 약수의 합"
   ]
  },
  {
   "cell_type": "markdown",
   "metadata": {},
   "source": [
    "정수 n을 입력받아 n의 약수를 모두 더한 값을 리턴하는 함수, solution을 완성해주세요."
   ]
  },
  {
   "cell_type": "code",
   "execution_count": 11,
   "metadata": {},
   "outputs": [],
   "source": [
    "def solution(n):\n",
    "    if n != 0:\n",
    "        num = range(1,3001)\n",
    "        d_lst = [i for i in num if n%i == 0]\n",
    "        return sum(d_lst)\n",
    "    else:\n",
    "        return 0\n",
    "\n",
    "#n이 0과 0이 아닌 케이스로 나누는 것을 추가하지 않았더니 테스트문제 하나가 계속 실패가 뜸\n",
    "#경우를 나누니 성공이라고 뜸. 하지만 0의 약수는 모든 자연수이기 때문에 문제에 오류가 있는 것으로 보임"
   ]
  },
  {
   "cell_type": "markdown",
   "metadata": {},
   "source": [
    "### 시저 암호"
   ]
  },
  {
   "cell_type": "markdown",
   "metadata": {},
   "source": [
    "어떤 문장의 각 알파벳을 일정한 거리만큼 밀어서 다른 알파벳으로 바꾸는 암호화 방식을 시저 암호라고 합니다. 예를 들어 \"AB\"는 1만큼 밀면 \"BC\"가 되고, 3만큼 밀면 \"DE\"가 됩니다. \"z\"는 1만큼 밀면 \"a\"가 됩니다. 문자열 s와 거리 n을 입력받아 s를 n만큼 민 암호문을 만드는 함수, solution을 완성해 보세요."
   ]
  },
  {
   "cell_type": "markdown",
   "metadata": {},
   "source": [
    "##### 제한 조건\n",
    "##### 공백은 아무리 밀어도 공백입니다.\n",
    "##### s는 알파벳 소문자, 대문자, 공백으로만 이루어져 있습니다.\n",
    "##### s의 길이는 8000이하입니다.\n",
    "##### n은 1 이상, 25이하인 자연수입니다."
   ]
  },
  {
   "cell_type": "code",
   "execution_count": 31,
   "metadata": {},
   "outputs": [],
   "source": [
    "def solution(s, n):\n",
    "    import string\n",
    "    lower_chr = list(string.ascii_lowercase)\n",
    "    upper_chr = list(string.ascii_uppercase)\n",
    "    answer = \"\"\n",
    "\n",
    "    for letter in s:\n",
    "        if letter.isupper() == True:\n",
    "            idx = upper_chr.index(letter)\n",
    "            step = idx+n\n",
    "            if step >= 26:\n",
    "                step -= 26\n",
    "            else:\n",
    "                pass\n",
    "            answer += upper_chr[step]\n",
    "        elif letter.islower() == True:\n",
    "            idx = lower_chr.index(letter)\n",
    "            step = idx+n\n",
    "            if step >= 26:\n",
    "                step -= 26\n",
    "            else:\n",
    "                pass\n",
    "            answer += lower_chr[step]\n",
    "        elif letter ==  \" \":\n",
    "            answer += \" \"\n",
    "    return answer\n"
   ]
  },
  {
   "cell_type": "code",
   "execution_count": 32,
   "metadata": {},
   "outputs": [
    {
     "data": {
      "text/plain": [
       "'e F d'"
      ]
     },
     "execution_count": 32,
     "metadata": {},
     "output_type": "execute_result"
    }
   ],
   "source": [
    "solution(\"a B z\", 4)"
   ]
  },
  {
   "cell_type": "code",
   "execution_count": 34,
   "metadata": {},
   "outputs": [],
   "source": [
    "#if step >= 26: step -= 26 말고\n",
    "#step % 26 도 방법!"
   ]
  },
  {
   "cell_type": "code",
   "execution_count": null,
   "metadata": {},
   "outputs": [],
   "source": []
  }
 ],
 "metadata": {
  "interpreter": {
   "hash": "6befbeed676a172e080901c5981be1b0cd24cf8f27aeb32c0504fe9f13c0d96d"
  },
  "kernelspec": {
   "display_name": "Python 3.8.8 64-bit ('study': conda)",
   "language": "python",
   "name": "python3"
  },
  "language_info": {
   "codemirror_mode": {
    "name": "ipython",
    "version": 3
   },
   "file_extension": ".py",
   "mimetype": "text/x-python",
   "name": "python",
   "nbconvert_exporter": "python",
   "pygments_lexer": "ipython3",
   "version": "3.8.8"
  },
  "orig_nbformat": 4
 },
 "nbformat": 4,
 "nbformat_minor": 2
}
