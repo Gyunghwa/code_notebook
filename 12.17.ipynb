{
 "cells": [
  {
   "cell_type": "markdown",
   "metadata": {},
   "source": [
    "### 실패율\n",
    "https://programmers.co.kr/learn/courses/30/lessons/42889\n"
   ]
  },
  {
   "cell_type": "code",
   "execution_count": null,
   "metadata": {},
   "outputs": [],
   "source": [
    "def solution(N, stages):\n",
    "    stage=list(range(1,N+1))        #전체 stage 리스트\n",
    "    rate = []                       #stage 당 실패율을 담을 리스트\n",
    "    for i in stage:\n",
    "        if i in stages:             #i라는 stage가 주어진 stages 배열에 있으면\n",
    "            failrate = len([j for j in stages if j==i]) / len(stages)       #실패율을 구하고\n",
    "            stages = [k for k in stages if k!=i]        #해당 stage는 stages배열에서 제외한다\n",
    "        else:                       #i라는 stage가 주어진 stages 배열에 없으면\n",
    "            failrate = 0            #실패율=0 임\n",
    "        rate.append(failrate)       #실패율을 리스트에 담는다\n",
    "    \n",
    "    ans = dict(zip(stage, rate))    #dictionary를 사용하여 stage와 해당stage의 실패율을 매치한다\n",
    "    sorted_ans = sorted(ans.items(), key=lambda item: item[1], reverse=True)    #실패율에 따른 내림차순으로 정렬\n",
    "    return [s[0] for s in sorted_ans]   #dictionary에서 key에 해당하는 부분만 출력"
   ]
  },
  {
   "cell_type": "code",
   "execution_count": null,
   "metadata": {},
   "outputs": [],
   "source": [
    "#다른 풀이\n",
    "\n",
    "def solution(N, stages):\n",
    "    result = {}         #처음부터 dictionary 할당\n",
    "    denominator = len(stages)\n",
    "    for stage in range(1, N+1):\n",
    "        if denominator != 0:\n",
    "            count = stages.count(stage)     #해당 stage가 주어진 stages배열에 몇 개 있는지 count로 확인\n",
    "            result[stage] = count / denominator\n",
    "            denominator -= count            #stages 길이 새로고침\n",
    "        else:\n",
    "            result[stage] = 0\n",
    "    return sorted(result, key=lambda x : result[x], reverse=True)"
   ]
  },
  {
   "cell_type": "code",
   "execution_count": null,
   "metadata": {},
   "outputs": [],
   "source": []
  }
 ],
 "metadata": {
  "interpreter": {
   "hash": "6befbeed676a172e080901c5981be1b0cd24cf8f27aeb32c0504fe9f13c0d96d"
  },
  "kernelspec": {
   "display_name": "Python 3.8.8 64-bit ('study': conda)",
   "language": "python",
   "name": "python3"
  },
  "language_info": {
   "codemirror_mode": {
    "name": "ipython",
    "version": 3
   },
   "file_extension": ".py",
   "mimetype": "text/x-python",
   "name": "python",
   "nbconvert_exporter": "python",
   "pygments_lexer": "ipython3",
   "version": "3.8.8"
  },
  "orig_nbformat": 4
 },
 "nbformat": 4,
 "nbformat_minor": 2
}
